{
 "cells": [
  {
   "cell_type": "code",
   "execution_count": 2,
   "metadata": {},
   "outputs": [
    {
     "name": "stdout",
     "output_type": "stream",
     "text": [
      "5\n",
      "\n",
      "Pemrosesan Sekuensial\n",
      "1 merupakan bilangan ganjil ID Proses 11119\n",
      "2 merupakan bilangan genap ID Proses 11119\n",
      "3 merupakan bilangan ganjil ID Proses 11119\n",
      "4 merupakan bilangan genap ID Proses 11119\n",
      "5 merupakan bilangan ganjil ID Proses 11119\n",
      "\n",
      "Pemrosesan Paralel dengan multiprocessing.process\n",
      "1 merupakan bilangan ganjil ID Proses 11160\n",
      "2 merupakan bilangan genap ID Proses 11163\n",
      "3 merupakan bilangan ganjil ID Proses 11165\n",
      "4 merupakan bilangan genap ID Proses 11169\n",
      "5 merupakan bilangan ganjil ID Proses 11172\n",
      "\n",
      "Pemrosesan Paralel dengan multiprocessing.pool\n",
      "2 merupakan bilangan genap ID Proses 11176\n",
      "3 merupakan bilangan ganjil ID Proses 11177\n",
      "1 merupakan bilangan ganjil ID Proses 11175\n",
      "4 merupakan bilangan genap ID Proses 11178\n",
      "5 merupakan bilangan ganjil ID Proses 11176\n",
      "\n",
      "Sekuensial 5.007780075073242 detik\n",
      "multiprocessing.process 1.1074037551879883 detik\n",
      "multiprocessing.pool 2.070007801055908 detik\n"
     ]
    }
   ],
   "source": [
    "from os import getpid\n",
    "from time import time, sleep\n",
    "from multiprocessing import Pool, Process\n",
    "\n",
    "def gan_gen(angka):\n",
    "    if angka%2 == 0:\n",
    "        print(angka, \"merupakan bilangan genap ID Proses\", getpid())\n",
    "    else:\n",
    "        print(angka, \"merupakan bilangan ganjil ID Proses\", getpid())\n",
    "    sleep(1)\n",
    "    \n",
    "if __name__ == '__main__':\n",
    "    angka = int(input())\n",
    "    \n",
    "    # PEMROSESAN SEKUENSIAL\n",
    "    print(\"\\nPemrosesan Sekuensial\")\n",
    "    sekuensial_awal = time()\n",
    "    \n",
    "    for i in range(1, angka+1):\n",
    "      gan_gen(i)\n",
    "    \n",
    "    sekuensial_akhir= time()\n",
    "    \n",
    "    # PEMROSESAN PARALEL DENGAN multiprocessing.process\n",
    "    print(\"\\nPemrosesan Paralel dengan multiprocessing.process\")\n",
    "    kumpulan_proses = []\n",
    "    \n",
    "    process_awal = time()\n",
    "    \n",
    "    for i in range(1,angka+1):\n",
    "      p = Process(target=gan_gen, args=(i,))\n",
    "      kumpulan_proses.append(p)\n",
    "      p.start()\n",
    "    \n",
    "    for i in kumpulan_proses:\n",
    "      p.join()\n",
    "    \n",
    "    process_akhir = time()\n",
    "    \n",
    "    # PEMROSESAN PARALEL DENGAN multiprocessing.pool\n",
    "    print(\"\\nPemrosesan Paralel dengan multiprocessing.pool\")\n",
    "    pool_awal = time()\n",
    "    \n",
    "    pool = Pool()\n",
    "    pool.map(gan_gen, range(1,angka+1))\n",
    "    pool.close()\n",
    "    \n",
    "    pool_akhir = time()\n",
    "    \n",
    "print(\"\\nSekuensial\", sekuensial_akhir-sekuensial_awal, \"detik\")\n",
    "print(\"multiprocessing.process\", process_akhir-process_awal, \"detik\")\n",
    "print(\"multiprocessing.pool\", pool_akhir-pool_awal, \"detik\")"
   ]
  },
  {
   "cell_type": "code",
   "execution_count": null,
   "metadata": {},
   "outputs": [],
   "source": []
  }
 ],
 "metadata": {
  "kernelspec": {
   "display_name": "Python 3",
   "language": "python",
   "name": "python3"
  },
  "language_info": {
   "codemirror_mode": {
    "name": "ipython",
    "version": 3
   },
   "file_extension": ".py",
   "mimetype": "text/x-python",
   "name": "python",
   "nbconvert_exporter": "python",
   "pygments_lexer": "ipython3",
   "version": "3.6.8"
  }
 },
 "nbformat": 4,
 "nbformat_minor": 2
}
