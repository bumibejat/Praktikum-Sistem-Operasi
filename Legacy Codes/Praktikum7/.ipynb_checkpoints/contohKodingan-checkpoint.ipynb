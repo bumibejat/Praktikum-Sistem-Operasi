{
 "cells": [
  {
   "cell_type": "code",
   "execution_count": 1,
   "metadata": {},
   "outputs": [
    {
     "ename": "SyntaxError",
     "evalue": "invalid syntax (<ipython-input-1-4f77826398ca>, line 16)",
     "output_type": "error",
     "traceback": [
      "\u001b[0;36m  File \u001b[0;32m\"<ipython-input-1-4f77826398ca>\"\u001b[0;36m, line \u001b[0;32m16\u001b[0m\n\u001b[0;31m    print(\"\\nPemrosesan Sekuensial\")gt\u001b[0m\n\u001b[0m                                     ^\u001b[0m\n\u001b[0;31mSyntaxError\u001b[0m\u001b[0;31m:\u001b[0m invalid syntax\n"
     ]
    }
   ],
   "source": [
    "from os import getpid\n",
    "from time import time, sleep\n",
    "from multiprocessing import Pool, Process\n",
    "\n",
    "def gan_gen(angka):\n",
    "    if angka%2 == 0:\n",
    "        print(angka, \"merupakan bilangan genap ID Proses\", getpid())\n",
    "    else:\n",
    "        print(angka, \"merupakan bilangan ganjil ID Proses\", getpid())\n",
    "    sleep(1)\n",
    "    \n",
    "if __name__ == '__main__':\n",
    "    angka = int(input())\n",
    "    \n",
    "    # PEMROSESAN SEKUENSIAL\n",
    "    print(\"\\nPemrosesan Sekuensial\")\n",
    "    sekuensial_awal = time()\n",
    "    \n",
    "    for i in range(1, angka+1):\n",
    "      gan_gen(i)\n",
    "    \n",
    "    sekuensial_akhir= time()\n",
    "    \n",
    "    # PEMROSESAN PARALEL DENGAN multiprocessing.process\n",
    "    print(\"\\nPemrosesan Paralel dengan multiprocessing.process\")\n",
    "    kumpulan_proses = []\n",
    "    \n",
    "    process_awal = time()\n",
    "    \n",
    "    for i in range(1,angka+1):\n",
    "      p = Process(target=gan_gen, args=(i,))\n",
    "      kumpulan_proses.append(p)\n",
    "      p.start()\n",
    "    \n",
    "    for i in kumpulan_proses:\n",
    "      p.join()\n",
    "    \n",
    "    process_akhir = time()\n",
    "    \n",
    "    # PEMROSESAN PARALEL DENGAN multiprocessing.pool\n",
    "    print(\"\\nPemrosesan Paralel dengan multiprocessing.pool\")\n",
    "    pool_awal = time()\n",
    "    \n",
    "    pool = Pool()\n",
    "    pool.map(gan_gen, range(1,angka+1))\n",
    "    pool.close()\n",
    "    \n",
    "    pool_akhir = time()\n",
    "    \n",
    "print(\"\\nSekuensial\", sekuensial_akhir-sekuensial_awal, \"detik\")\n",
    "print(\"multiprocessing.process\", process_akhir-process_awal, \"detik\")\n",
    "print(\"multiprocessing.pool\", pool_akhir-pool_awal, \"detik\")"
   ]
  },
  {
   "cell_type": "code",
   "execution_count": null,
   "metadata": {},
   "outputs": [],
   "source": []
  }
 ],
 "metadata": {
  "kernelspec": {
   "display_name": "Python 3",
   "language": "python",
   "name": "python3"
  },
  "language_info": {
   "codemirror_mode": {
    "name": "ipython",
    "version": 3
   },
   "file_extension": ".py",
   "mimetype": "text/x-python",
   "name": "python",
   "nbconvert_exporter": "python",
   "pygments_lexer": "ipython3",
   "version": "3.6.8"
  }
 },
 "nbformat": 4,
 "nbformat_minor": 2
}
