{
 "cells": [
  {
   "cell_type": "code",
   "execution_count": null,
   "metadata": {},
   "outputs": [],
   "source": [
    "from os import getpid\n",
    "from time import time, sleep\n",
    "from multiprocessing import cpu_count, Pool, Process\n",
    "\n",
    "def cetak(i):\n",
    "    print(\"Cetak angka\", i+1,\"- punya ID proses\", getpid())\n",
    "    sleep(1)\n",
    "\n",
    "# PAKE INI AJA BIAR NGGAK RIBET(OPSIONAL AJA SIH-NGGAK WAJIB KOK :P)\n",
    "if __name__ == '__main__':\n",
    "    # SEKUENSIAL\n",
    "    print(\"Pemrograman Sekuensial\")\n",
    "    sekuensial_awal = time()\n",
    "    \n",
    "    for i in range(10):\n",
    "        cetak(i)\n",
    "    \n",
    "    sekuensial_akhir = time()\n",
    "    \n",
    "    # KELAS PROCESS\n",
    "    print(\"\\nPemrograman Paralel dengan multiprocessing.Process\")\n",
    "    \n",
    "    kumpulan_proses = []\n",
    "    process_awal = time()\n",
    "    \n",
    "    for i in range(10):\n",
    "        p = Process(target=cetak, args=(i,))\n",
    "        kumpulan_proses.append(p)\n",
    "        p.start()\n",
    "    \n",
    "    for i in kumpulan_proses:\n",
    "        p.join()\n",
    "    \n",
    "    process_akhir = time()\n",
    "    \n",
    "    # KELAS POOL\n",
    "    print(\"\\nPemrograman Paralel dengan multiprocessing.Pool\")\n",
    "    pool_awal = time()\n",
    "    \n",
    "    pool = Pool()\n",
    "    pool.map(cetak, range(0,10))\n",
    "    pool.close()\n",
    "    \n",
    "    pool_akhir = time()\n",
    "    \n",
    "print(\"\\nSekuensial :\", sekuensial_akhir - sekuensial_awal, \"detik\")\n",
    "print(\"Kelas Process :\", process_akhir - process_awal, \"detik\")\n",
    "print(\"Kelas Pool :\", pool_akhir - pool_awal, \"detik\")"
   ]
  }
 ],
 "metadata": {
  "kernelspec": {
   "display_name": "Python 3",
   "language": "python",
   "name": "python3"
  },
  "language_info": {
   "codemirror_mode": {
    "name": "ipython",
    "version": 3
   },
   "file_extension": ".py",
   "mimetype": "text/x-python",
   "name": "python",
   "nbconvert_exporter": "python",
   "pygments_lexer": "ipython3",
   "version": "3.6.8"
  }
 },
 "nbformat": 4,
 "nbformat_minor": 2
}
